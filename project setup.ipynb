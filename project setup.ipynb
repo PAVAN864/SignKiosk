{
 "cells": [
  {
   "cell_type": "code",
   "execution_count": 10,
   "metadata": {},
   "outputs": [],
   "source": [
    "import mediapipe as mp\n",
    "import os\n",
    "import numpy as np\n",
    "import cv2\n",
    "import uuid"
   ]
  },
  {
   "cell_type": "code",
   "execution_count": 13,
   "metadata": {},
   "outputs": [],
   "source": [
    "mp_drawing = mp.solutions.drawing_utils\n",
    "mp_holistic = mp.solutions.holistic"
   ]
  },
  {
   "cell_type": "code",
   "execution_count": 21,
   "metadata": {},
   "outputs": [],
   "source": [
    "def calc_bounding_rect(image, landmarks):\n",
    "    image_width, image_height = image.shape[1], image.shape[0]\n",
    "\n",
    "    landmark_array = np.empty((0, 2), int)\n",
    "\n",
    "    for _, landmark in enumerate(landmarks.landmark):\n",
    "        landmark_x = min(int(landmark.x * image_width), image_width - 1)\n",
    "        landmark_y = min(int(landmark.y * image_height), image_height - 1)\n",
    "\n",
    "        landmark_point = [np.array((landmark_x, landmark_y))]\n",
    "\n",
    "        landmark_array = np.append(landmark_array, landmark_point, axis=0)\n",
    "\n",
    "    x, y, w, h = cv2.boundingRect(landmark_array)\n",
    "\n",
    "    return [x, y, x + w, y + h]"
   ]
  },
  {
   "cell_type": "code",
   "execution_count": 26,
   "metadata": {},
   "outputs": [],
   "source": [
    "cap = cv2.VideoCapture(0)\n",
    "\n",
    "with mp_holistic.Holistic(min_detection_confidence=0.5, min_tracking_confidence=0.5) as holistic:\n",
    "    \n",
    "    while cap.isOpened():\n",
    "        ret, frame = cap.read()\n",
    "        \n",
    "        # Recolor Feed\n",
    "        image = cv2.cvtColor(frame, cv2.COLOR_BGR2RGB)\n",
    "        image.flags.writeable = False\n",
    "        # Make Detections\n",
    "        results = holistic.process(image)\n",
    "        image.flags.writeable = True\n",
    "        # Recolor image back to BGR for rendering\n",
    "        image = cv2.cvtColor(image, cv2.COLOR_RGB2BGR)\n",
    "        \n",
    "        \n",
    "        # 2. Right hand\n",
    "        if results.right_hand_landmarks: \n",
    "            mp_drawing.draw_landmarks(image, results.right_hand_landmarks, mp_holistic.HAND_CONNECTIONS, \n",
    "                                     mp_drawing.DrawingSpec(color=(255,255,255), thickness=2, circle_radius=2),\n",
    "                                     mp_drawing.DrawingSpec(color=(255,255,174), thickness=2, circle_radius=1)\n",
    "                                     )\n",
    "            b_rect_right = calc_bounding_rect(image,results.right_hand_landmarks)\n",
    "            cv2.rectangle(image,(b_rect_right[0],b_rect_right[1]),(b_rect_right[2],b_rect_right[3]),(255,255,255),2)\n",
    "            cv2.rectangle(image, (b_rect_right[0], b_rect_right[1]), (b_rect_right[2], b_rect_right[1] - 22),\n",
    "                 (0, 0, 0), -1)\n",
    "            cv2.putText(image, \"right\", (b_rect_right[0] + 5, b_rect_right[1] - 4),\n",
    "               cv2.FONT_HERSHEY_SIMPLEX, 0.6, (255,0, 255), 1, cv2.LINE_AA)\n",
    "        # 3. Left Hand\n",
    "        if results.left_hand_landmarks:\n",
    "            mp_drawing.draw_landmarks(image, results.left_hand_landmarks, mp_holistic.HAND_CONNECTIONS, \n",
    "                                     mp_drawing.DrawingSpec(color=(255,255,255), thickness=2, circle_radius=2),\n",
    "                                     mp_drawing.DrawingSpec(color=(255,255,174), thickness=2, circle_radius=1)\n",
    "                                     )\n",
    "            b_rect_left = calc_bounding_rect(image,results.left_hand_landmarks)\n",
    "            cv2.rectangle(image,(b_rect_left[0],b_rect_left[1]),(b_rect_left[2],b_rect_left[3]),(255,255,255),2)\n",
    "            cv2.rectangle(image, (b_rect_left[0], b_rect_left[1]), (b_rect_left[2], b_rect_left[1] - 22),\n",
    "                 (0, 0, 0), -1)\n",
    "            cv2.putText(image, \"left\", (b_rect_left[0] + 5, b_rect_left[1] - 4),\n",
    "               cv2.FONT_HERSHEY_SIMPLEX, 0.6, (255, 0, 255), 1, cv2.LINE_AA)\n",
    "        cv2.imshow('Raw Webcam Feed', image)\n",
    "\n",
    "\n",
    "        if cv2.waitKey(10) & 0xFF == ord('q'):\n",
    "            break\n",
    "\n",
    "cap.release()\n",
    "cv2.destroyAllWindows()"
   ]
  },
  {
   "cell_type": "code",
   "execution_count": 20,
   "metadata": {},
   "outputs": [],
   "source": [
    "cap.release()\n",
    "cv2.destroyAllWindows()  "
   ]
  },
  {
   "cell_type": "code",
   "execution_count": null,
   "metadata": {},
   "outputs": [],
   "source": []
  },
  {
   "cell_type": "code",
   "execution_count": null,
   "metadata": {},
   "outputs": [],
   "source": []
  }
 ],
 "metadata": {
  "kernelspec": {
   "display_name": "Python 3",
   "language": "python",
   "name": "python3"
  },
  "language_info": {
   "codemirror_mode": {
    "name": "ipython",
    "version": 3
   },
   "file_extension": ".py",
   "mimetype": "text/x-python",
   "name": "python",
   "nbconvert_exporter": "python",
   "pygments_lexer": "ipython3",
   "version": "3.8.5"
  }
 },
 "nbformat": 4,
 "nbformat_minor": 4
}
